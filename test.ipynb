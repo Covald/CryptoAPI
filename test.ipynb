{
 "cells": [
  {
   "cell_type": "code",
   "id": "initial_id",
   "metadata": {
    "collapsed": true,
    "ExecuteTime": {
     "end_time": "2025-02-24T09:25:01.134259Z",
     "start_time": "2025-02-24T09:25:00.669495Z"
    }
   },
   "source": [
    "import asyncio\n",
    "\n",
    "import pandas as pd\n",
    "from datetime import datetime, timedelta\n",
    "import pandas\n",
    "from database import postgres, clickhouse\n",
    "from schemes import Coin\n",
    "\n",
    "await postgres.connect()\n",
    "await clickhouse.connect()"
   ],
   "outputs": [],
   "execution_count": 88
  },
  {
   "metadata": {
    "ExecuteTime": {
     "end_time": "2025-02-24T08:31:59.496818Z",
     "start_time": "2025-02-24T08:31:59.488372Z"
    }
   },
   "cell_type": "code",
   "source": "datetime(2025, 2, 23, 21, 49, 13) - timedelta(days=1)",
   "id": "f516b0d9d6581d37",
   "outputs": [
    {
     "data": {
      "text/plain": [
       "datetime.datetime(2025, 2, 22, 21, 49, 13)"
      ]
     },
     "execution_count": 2,
     "metadata": {},
     "output_type": "execute_result"
    }
   ],
   "execution_count": 2
  },
  {
   "metadata": {
    "ExecuteTime": {
     "end_time": "2025-02-24T09:21:40.694309Z",
     "start_time": "2025-02-24T09:21:40.170287Z"
    }
   },
   "cell_type": "code",
   "source": [
    "df = pandas.read_excel('Parser_crypto.xlsx', 'spot')\n",
    "pairs = pd.unique(df['pair'])"
   ],
   "id": "4a5d045851d64b17",
   "outputs": [],
   "execution_count": 79
  },
  {
   "metadata": {
    "ExecuteTime": {
     "end_time": "2025-02-24T09:21:41.536974Z",
     "start_time": "2025-02-24T09:21:41.395247Z"
    }
   },
   "cell_type": "code",
   "source": [
    "ts = (await clickhouse.execute(f\"select ts from coins where type='spot' order by ts limit 1\")).first_row[0]\n",
    "ts = (await clickhouse.execute(f\"select cast ('2025-02-22 22:57:32' as datetime)\")).first_row[0]\n",
    "ts"
   ],
   "id": "8f18da303b146279",
   "outputs": [
    {
     "data": {
      "text/plain": [
       "datetime.datetime(2025, 2, 22, 22, 57, 32)"
      ]
     },
     "execution_count": 80,
     "metadata": {},
     "output_type": "execute_result"
    }
   ],
   "execution_count": 80
  },
  {
   "metadata": {
    "ExecuteTime": {
     "end_time": "2025-02-24T09:25:57.441653Z",
     "start_time": "2025-02-24T09:25:57.430714Z"
    }
   },
   "cell_type": "code",
   "source": [
    "async def get_data(type: str) -> tuple[dict, dict]:\n",
    "    pg_coins = []\n",
    "    columns = (\n",
    "        'symbol', 'market_name', 'type', 'price', 'spread', 'index_price', 'volume_24h', 'open_interest',\n",
    "        'funding_rate',\n",
    "        'ts')\n",
    "    for row in (await postgres.fetch(f\"\"\"\n",
    "        SELECT m.name AS market_name, symbol, type, price, spread, index_price, volume_24h,  open_interest, funding_rate, ts\n",
    "        FROM coins c\n",
    "        RIGHT JOIN markets m ON m.id = c.market_id\n",
    "        where type='{type}'\n",
    "    \"\"\")):\n",
    "        pg_coins.append(Coin(\n",
    "            market_name=row[0],\n",
    "            symbol=row[1],\n",
    "            type=row[2],\n",
    "            price=row[3],\n",
    "            spread=row[4],\n",
    "            index_price=row[5],\n",
    "            volume_24h=row[6],\n",
    "            open_interest=row[7],\n",
    "            funding_rate=row[8],\n",
    "            ts=row[9]\n",
    "        ))\n",
    "    ch_coins = []\n",
    "    for row in (await clickhouse.execute(f\"select * from coins where ts = '{ts}' and type = '{type}'\")).result_set:\n",
    "        ch_coins.append(\n",
    "            Coin(\n",
    "                market_name=row[1],\n",
    "                symbol=row[0],\n",
    "                type=row[2],\n",
    "                price=row[3],\n",
    "                spread=row[4],\n",
    "                index_price=row[5],\n",
    "                volume_24h=row[6],\n",
    "                open_interest=row[7],\n",
    "                funding_rate=row[8],\n",
    "                ts=row[9]\n",
    "            )\n",
    "        )\n",
    "    return pg_coins, ch_coins"
   ],
   "id": "9b0c3f071937648f",
   "outputs": [],
   "execution_count": 93
  },
  {
   "metadata": {
    "ExecuteTime": {
     "end_time": "2025-02-24T09:23:47.911997Z",
     "start_time": "2025-02-24T09:23:47.895926Z"
    }
   },
   "cell_type": "code",
   "source": [
    "def get_perc_price(pg: dict, ch: dict):\n",
    "    return round((pg['price'] - ch['price']) / ch['price'] * 100, 7)\n",
    "\n",
    "\n",
    "def get_volume_perc(pg: dict, ch: dict) -> float:\n",
    "    return round((pg['volume_24h'] - ch['volume_24h']) / ch['volume_24h'] * 100, 7)\n",
    "\n",
    "\n",
    "async def get_df(type: str) -> pd.DataFrame:\n",
    "    pg_coins, ch_coins = await get_data(type)\n",
    "    ch_dict = {}\n",
    "    for coin in ch_coins:\n",
    "        dct = coin.model_dump()\n",
    "        dct.pop('symbol')\n",
    "        ch_dict[coin.symbol] = dct\n",
    "    pg_dict = {}\n",
    "    for coin in pg_coins:\n",
    "        dct = coin.model_dump()\n",
    "        dct.pop('symbol')\n",
    "        pg_dict[coin.symbol] = dct\n",
    "    rows = []\n",
    "    for pair in pairs:\n",
    "        pg_data = pg_dict.get(pair)\n",
    "        if not pg_data:\n",
    "            continue\n",
    "        rows.append(\n",
    "            pd.Series(\n",
    "                {\n",
    "                    \"market_name\": \"bybit\",\n",
    "                    \"type\": \"spot\",\n",
    "                    \"symbol\": pair,\n",
    "                    \"price\": pg_data[\"price\"],\n",
    "                    \"price_perc\": get_perc_price(pg_data, ch_dict[pair]),\n",
    "                    \"spread\": pg_data[\"spread\"],\n",
    "                    \"volume_24h\": pg_data[\"volume_24h\"],\n",
    "                    \"volume_24h_perc\": get_volume_perc(pg_data, ch_dict[pair]),\n",
    "                    \"open_interest\": pg_data[\"open_interest\"],\n",
    "                    \"funding_rate\": pg_data[\"funding_rate\"],\n",
    "                    \"ts\": pg_data[\"ts\"],\n",
    "                }\n",
    "            )\n",
    "        )\n",
    "    return pd.DataFrame(rows)"
   ],
   "id": "c54833b15eb033d9",
   "outputs": [],
   "execution_count": 82
  },
  {
   "metadata": {
    "ExecuteTime": {
     "end_time": "2025-02-24T09:26:15.463289Z",
     "start_time": "2025-02-24T09:26:15.222022Z"
    }
   },
   "cell_type": "code",
   "source": "df_spot, df_linear = await asyncio.gather(*[get_df(type) for type in ('spot', 'linear')])",
   "id": "f973d18fe6a6fa3b",
   "outputs": [],
   "execution_count": 96
  },
  {
   "metadata": {
    "ExecuteTime": {
     "end_time": "2025-02-24T09:26:18.763981Z",
     "start_time": "2025-02-24T09:26:18.740143Z"
    }
   },
   "cell_type": "code",
   "source": "df_linear",
   "id": "66703e75681db46a",
   "outputs": [
    {
     "data": {
      "text/plain": [
       "    market_name  type      symbol     price  price_perc    spread  \\\n",
       "0         bybit  spot  UXLINKUSDT  0.671400    0.343745  0.014892   \n",
       "1         bybit  spot     BNTUSDT  0.502550   -5.286468  0.039734   \n",
       "2         bybit  spot      FBUSDT  1.178000    0.856164  0.084890   \n",
       "3         bybit  spot     SPXUSDT  0.702100   -5.249663  0.014259   \n",
       "4         bybit  spot    BOMEUSDT  0.001958  -11.282284  0.102093   \n",
       "..          ...   ...         ...       ...         ...       ...   \n",
       "190       bybit  spot    ANKRUSDT  0.022480   -5.980761  0.044464   \n",
       "191       bybit  spot     MVLUSDT  0.003791   -3.830543  0.184259   \n",
       "192       bybit  spot     MONUSDT  0.035660  -10.085729  0.028011   \n",
       "193       bybit  spot       TUSDT  0.020840   -4.883615  0.095923   \n",
       "194       bybit  spot      OMUSDT  8.400000   11.800250  0.001190   \n",
       "\n",
       "       volume_24h  volume_24h_perc  open_interest  funding_rate  \\\n",
       "0    1.938462e+07       213.602510     4926174.62      0.000050   \n",
       "1    1.215894e+06        91.957904      608722.73      0.000100   \n",
       "2    8.173564e+05        89.602308      380521.09      0.001430   \n",
       "3    9.005782e+06         3.223432     4459773.64      0.000050   \n",
       "4    2.380363e+09       -21.235357     6878067.22      0.000050   \n",
       "..            ...              ...            ...           ...   \n",
       "190  3.377426e+07       -21.175181     3008260.34      0.000100   \n",
       "191  7.393170e+07       -78.110992      288549.69     -0.004810   \n",
       "192  2.383034e+07       -12.087581      190445.01     -0.000047   \n",
       "193  1.602199e+07        34.295047      562944.88      0.000100   \n",
       "194  8.317968e+06        77.823004    42540231.22     -0.000034   \n",
       "\n",
       "                         ts  \n",
       "0   2025-02-24 09:25:44.775  \n",
       "1   2025-02-24 09:25:44.775  \n",
       "2   2025-02-24 09:25:44.775  \n",
       "3   2025-02-24 09:25:44.775  \n",
       "4   2025-02-24 09:25:44.775  \n",
       "..                      ...  \n",
       "190 2025-02-24 09:25:44.775  \n",
       "191 2025-02-24 09:25:44.775  \n",
       "192 2025-02-24 09:25:44.775  \n",
       "193 2025-02-24 09:25:44.775  \n",
       "194 2025-02-24 09:25:44.775  \n",
       "\n",
       "[195 rows x 11 columns]"
      ],
      "text/html": [
       "<div>\n",
       "<style scoped>\n",
       "    .dataframe tbody tr th:only-of-type {\n",
       "        vertical-align: middle;\n",
       "    }\n",
       "\n",
       "    .dataframe tbody tr th {\n",
       "        vertical-align: top;\n",
       "    }\n",
       "\n",
       "    .dataframe thead th {\n",
       "        text-align: right;\n",
       "    }\n",
       "</style>\n",
       "<table border=\"1\" class=\"dataframe\">\n",
       "  <thead>\n",
       "    <tr style=\"text-align: right;\">\n",
       "      <th></th>\n",
       "      <th>market_name</th>\n",
       "      <th>type</th>\n",
       "      <th>symbol</th>\n",
       "      <th>price</th>\n",
       "      <th>price_perc</th>\n",
       "      <th>spread</th>\n",
       "      <th>volume_24h</th>\n",
       "      <th>volume_24h_perc</th>\n",
       "      <th>open_interest</th>\n",
       "      <th>funding_rate</th>\n",
       "      <th>ts</th>\n",
       "    </tr>\n",
       "  </thead>\n",
       "  <tbody>\n",
       "    <tr>\n",
       "      <th>0</th>\n",
       "      <td>bybit</td>\n",
       "      <td>spot</td>\n",
       "      <td>UXLINKUSDT</td>\n",
       "      <td>0.671400</td>\n",
       "      <td>0.343745</td>\n",
       "      <td>0.014892</td>\n",
       "      <td>1.938462e+07</td>\n",
       "      <td>213.602510</td>\n",
       "      <td>4926174.62</td>\n",
       "      <td>0.000050</td>\n",
       "      <td>2025-02-24 09:25:44.775</td>\n",
       "    </tr>\n",
       "    <tr>\n",
       "      <th>1</th>\n",
       "      <td>bybit</td>\n",
       "      <td>spot</td>\n",
       "      <td>BNTUSDT</td>\n",
       "      <td>0.502550</td>\n",
       "      <td>-5.286468</td>\n",
       "      <td>0.039734</td>\n",
       "      <td>1.215894e+06</td>\n",
       "      <td>91.957904</td>\n",
       "      <td>608722.73</td>\n",
       "      <td>0.000100</td>\n",
       "      <td>2025-02-24 09:25:44.775</td>\n",
       "    </tr>\n",
       "    <tr>\n",
       "      <th>2</th>\n",
       "      <td>bybit</td>\n",
       "      <td>spot</td>\n",
       "      <td>FBUSDT</td>\n",
       "      <td>1.178000</td>\n",
       "      <td>0.856164</td>\n",
       "      <td>0.084890</td>\n",
       "      <td>8.173564e+05</td>\n",
       "      <td>89.602308</td>\n",
       "      <td>380521.09</td>\n",
       "      <td>0.001430</td>\n",
       "      <td>2025-02-24 09:25:44.775</td>\n",
       "    </tr>\n",
       "    <tr>\n",
       "      <th>3</th>\n",
       "      <td>bybit</td>\n",
       "      <td>spot</td>\n",
       "      <td>SPXUSDT</td>\n",
       "      <td>0.702100</td>\n",
       "      <td>-5.249663</td>\n",
       "      <td>0.014259</td>\n",
       "      <td>9.005782e+06</td>\n",
       "      <td>3.223432</td>\n",
       "      <td>4459773.64</td>\n",
       "      <td>0.000050</td>\n",
       "      <td>2025-02-24 09:25:44.775</td>\n",
       "    </tr>\n",
       "    <tr>\n",
       "      <th>4</th>\n",
       "      <td>bybit</td>\n",
       "      <td>spot</td>\n",
       "      <td>BOMEUSDT</td>\n",
       "      <td>0.001958</td>\n",
       "      <td>-11.282284</td>\n",
       "      <td>0.102093</td>\n",
       "      <td>2.380363e+09</td>\n",
       "      <td>-21.235357</td>\n",
       "      <td>6878067.22</td>\n",
       "      <td>0.000050</td>\n",
       "      <td>2025-02-24 09:25:44.775</td>\n",
       "    </tr>\n",
       "    <tr>\n",
       "      <th>...</th>\n",
       "      <td>...</td>\n",
       "      <td>...</td>\n",
       "      <td>...</td>\n",
       "      <td>...</td>\n",
       "      <td>...</td>\n",
       "      <td>...</td>\n",
       "      <td>...</td>\n",
       "      <td>...</td>\n",
       "      <td>...</td>\n",
       "      <td>...</td>\n",
       "      <td>...</td>\n",
       "    </tr>\n",
       "    <tr>\n",
       "      <th>190</th>\n",
       "      <td>bybit</td>\n",
       "      <td>spot</td>\n",
       "      <td>ANKRUSDT</td>\n",
       "      <td>0.022480</td>\n",
       "      <td>-5.980761</td>\n",
       "      <td>0.044464</td>\n",
       "      <td>3.377426e+07</td>\n",
       "      <td>-21.175181</td>\n",
       "      <td>3008260.34</td>\n",
       "      <td>0.000100</td>\n",
       "      <td>2025-02-24 09:25:44.775</td>\n",
       "    </tr>\n",
       "    <tr>\n",
       "      <th>191</th>\n",
       "      <td>bybit</td>\n",
       "      <td>spot</td>\n",
       "      <td>MVLUSDT</td>\n",
       "      <td>0.003791</td>\n",
       "      <td>-3.830543</td>\n",
       "      <td>0.184259</td>\n",
       "      <td>7.393170e+07</td>\n",
       "      <td>-78.110992</td>\n",
       "      <td>288549.69</td>\n",
       "      <td>-0.004810</td>\n",
       "      <td>2025-02-24 09:25:44.775</td>\n",
       "    </tr>\n",
       "    <tr>\n",
       "      <th>192</th>\n",
       "      <td>bybit</td>\n",
       "      <td>spot</td>\n",
       "      <td>MONUSDT</td>\n",
       "      <td>0.035660</td>\n",
       "      <td>-10.085729</td>\n",
       "      <td>0.028011</td>\n",
       "      <td>2.383034e+07</td>\n",
       "      <td>-12.087581</td>\n",
       "      <td>190445.01</td>\n",
       "      <td>-0.000047</td>\n",
       "      <td>2025-02-24 09:25:44.775</td>\n",
       "    </tr>\n",
       "    <tr>\n",
       "      <th>193</th>\n",
       "      <td>bybit</td>\n",
       "      <td>spot</td>\n",
       "      <td>TUSDT</td>\n",
       "      <td>0.020840</td>\n",
       "      <td>-4.883615</td>\n",
       "      <td>0.095923</td>\n",
       "      <td>1.602199e+07</td>\n",
       "      <td>34.295047</td>\n",
       "      <td>562944.88</td>\n",
       "      <td>0.000100</td>\n",
       "      <td>2025-02-24 09:25:44.775</td>\n",
       "    </tr>\n",
       "    <tr>\n",
       "      <th>194</th>\n",
       "      <td>bybit</td>\n",
       "      <td>spot</td>\n",
       "      <td>OMUSDT</td>\n",
       "      <td>8.400000</td>\n",
       "      <td>11.800250</td>\n",
       "      <td>0.001190</td>\n",
       "      <td>8.317968e+06</td>\n",
       "      <td>77.823004</td>\n",
       "      <td>42540231.22</td>\n",
       "      <td>-0.000034</td>\n",
       "      <td>2025-02-24 09:25:44.775</td>\n",
       "    </tr>\n",
       "  </tbody>\n",
       "</table>\n",
       "<p>195 rows × 11 columns</p>\n",
       "</div>"
      ]
     },
     "execution_count": 97,
     "metadata": {},
     "output_type": "execute_result"
    }
   ],
   "execution_count": 97
  },
  {
   "metadata": {
    "ExecuteTime": {
     "end_time": "2025-02-24T08:57:36.742266Z",
     "start_time": "2025-02-24T08:57:36.731132Z"
    }
   },
   "cell_type": "code",
   "source": "",
   "id": "61a7d541063f3789",
   "outputs": [],
   "execution_count": 34
  },
  {
   "metadata": {
    "ExecuteTime": {
     "end_time": "2025-02-24T09:12:13.602917Z",
     "start_time": "2025-02-24T09:12:13.458341Z"
    }
   },
   "cell_type": "code",
   "source": "",
   "id": "a0dfa6504bebfc4d",
   "outputs": [],
   "execution_count": 52
  },
  {
   "metadata": {
    "ExecuteTime": {
     "end_time": "2025-02-24T09:16:15.053997Z",
     "start_time": "2025-02-24T09:16:14.377379Z"
    }
   },
   "cell_type": "code",
   "source": "\n",
   "id": "cca313656a13c058",
   "outputs": [],
   "execution_count": 76
  },
  {
   "metadata": {
    "ExecuteTime": {
     "end_time": "2025-02-24T09:27:26.573736Z",
     "start_time": "2025-02-24T09:27:25.680049Z"
    }
   },
   "cell_type": "code",
   "source": [
    "df = pd.read_excel(\"Parser_crypto.xlsx\")\n",
    "with pd.ExcelWriter(\"Parser_crypto.xlsx\", \"openpyxl\") as fp:\n",
    "    df.to_excel(fp, sheet_name=\"default\", index=False)\n",
    "    df_spot.to_excel(fp, sheet_name=\"spot\", index=False)\n",
    "    df_linear.to_excel(fp, sheet_name=\"linear\", index=False)"
   ],
   "id": "c13b7125bdab6cf8",
   "outputs": [],
   "execution_count": 99
  }
 ],
 "metadata": {
  "kernelspec": {
   "display_name": "Python 3",
   "language": "python",
   "name": "python3"
  },
  "language_info": {
   "codemirror_mode": {
    "name": "ipython",
    "version": 2
   },
   "file_extension": ".py",
   "mimetype": "text/x-python",
   "name": "python",
   "nbconvert_exporter": "python",
   "pygments_lexer": "ipython2",
   "version": "2.7.6"
  }
 },
 "nbformat": 4,
 "nbformat_minor": 5
}
